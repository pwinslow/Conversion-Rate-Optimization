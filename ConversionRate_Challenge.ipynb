{
 "cells": [
  {
   "cell_type": "markdown",
   "metadata": {},
   "source": [
    "# Predicting Conversion Rate\n",
    "\n",
    "**Description**:    \n",
    "I am given data about users for a website: \n",
    "* Whether they converted or not\n",
    "* ISP country of origin\n",
    "* Marketing channel taken to conversion\n",
    "* Age\n",
    "* Whether they are repeat users or not\n",
    "* Number of pages visited during that session\n",
    "\n",
    "**Goal**:   \n",
    "Build a model which predicts conversion rate and, based on this model, give recommendations to the product and marketing teams to improve conversion rate and therefore revenue.  \n",
    "\n",
    "**Results**:   \n",
    "Here I list the main insights gleaned from my analysis and some associated recommendations.\n",
    "* Users with an older account are more likely to convert than users with newer accounts.\n",
    "    * Since they're already in the system, perhaps some targeted emails with offers to bring them back to the site could better capture their conversion potential.\n",
    "* Chinese users are hard to convert.\n",
    "    * This could be just due to translation or cultural issues. Either way, considering how many potential users are in China I'd recommend the UX department take a look at ways to improve it.\n",
    "* German users are relatively easy to convert.\n",
    "    * Something is going very right with German users and so a little more focus on these users could have a large effect! This could be something for both UX and marketing to look into.\n",
    "* Young people are much more likely to convert than older people.\n",
    "    * UX department may want to look into why people 30+ perform so poorly.\n",
    "* Existing marketing channels do not have a significant effect one way or the other\n",
    "    * Considering that the site does well with younger users, development of new marketing channels should be done specifically so that they are aimed at reaching younger people.\n",
    "* If a user has visited many pages but hasn't yet converted, they very likely could have a high purchase intent. Perhaps such users could be sent targeted email offers or reminders."
   ]
  },
  {
   "cell_type": "markdown",
   "metadata": {},
   "source": [
    "## Import Libraries and Load Data"
   ]
  },
  {
   "cell_type": "markdown",
   "metadata": {},
   "source": [
    "First, import all necessary libraries."
   ]
  },
  {
   "cell_type": "code",
   "execution_count": 22,
   "metadata": {
    "collapsed": false
   },
   "outputs": [],
   "source": [
    "# Analysis imports\n",
    "import numpy as np\n",
    "import pandas as pd\n",
    "\n",
    "# Visualization imports\n",
    "import seaborn as sns\n",
    "import matplotlib.pyplot as plt\n",
    "%matplotlib inline\n",
    "\n",
    "# ML imports\n",
    "from sklearn.cross_validation import train_test_split\n",
    "from sklearn.cross_validation import StratifiedKFold\n",
    "from sklearn.ensemble import RandomForestClassifier\n",
    "from sklearn.grid_search import RandomizedSearchCV\n",
    "from sklearn.ensemble.partial_dependence import plot_partial_dependence\n",
    "from sklearn.metrics import classification_report, roc_auc_score, roc_curve\n",
    "\n",
    "# Miscellaneous imports\n",
    "import warnings\n",
    "warnings.filterwarnings('ignore')"
   ]
  },
  {
   "cell_type": "markdown",
   "metadata": {},
   "source": [
    "Next, I'll load the data."
   ]
  },
  {
   "cell_type": "code",
   "execution_count": 3,
   "metadata": {
    "collapsed": false
   },
   "outputs": [
    {
     "data": {
      "text/html": [
       "<div>\n",
       "<table border=\"1\" class=\"dataframe\">\n",
       "  <thead>\n",
       "    <tr style=\"text-align: right;\">\n",
       "      <th></th>\n",
       "      <th>country</th>\n",
       "      <th>age</th>\n",
       "      <th>new_user</th>\n",
       "      <th>source</th>\n",
       "      <th>total_pages_visited</th>\n",
       "      <th>converted</th>\n",
       "    </tr>\n",
       "  </thead>\n",
       "  <tbody>\n",
       "    <tr>\n",
       "      <th>0</th>\n",
       "      <td>UK</td>\n",
       "      <td>25</td>\n",
       "      <td>1</td>\n",
       "      <td>Ads</td>\n",
       "      <td>1</td>\n",
       "      <td>0</td>\n",
       "    </tr>\n",
       "    <tr>\n",
       "      <th>1</th>\n",
       "      <td>US</td>\n",
       "      <td>23</td>\n",
       "      <td>1</td>\n",
       "      <td>Seo</td>\n",
       "      <td>5</td>\n",
       "      <td>0</td>\n",
       "    </tr>\n",
       "    <tr>\n",
       "      <th>2</th>\n",
       "      <td>US</td>\n",
       "      <td>28</td>\n",
       "      <td>1</td>\n",
       "      <td>Seo</td>\n",
       "      <td>4</td>\n",
       "      <td>0</td>\n",
       "    </tr>\n",
       "    <tr>\n",
       "      <th>3</th>\n",
       "      <td>China</td>\n",
       "      <td>39</td>\n",
       "      <td>1</td>\n",
       "      <td>Seo</td>\n",
       "      <td>5</td>\n",
       "      <td>0</td>\n",
       "    </tr>\n",
       "    <tr>\n",
       "      <th>4</th>\n",
       "      <td>US</td>\n",
       "      <td>30</td>\n",
       "      <td>1</td>\n",
       "      <td>Seo</td>\n",
       "      <td>6</td>\n",
       "      <td>0</td>\n",
       "    </tr>\n",
       "  </tbody>\n",
       "</table>\n",
       "</div>"
      ],
      "text/plain": [
       "  country  age  new_user source  total_pages_visited  converted\n",
       "0      UK   25         1    Ads                    1          0\n",
       "1      US   23         1    Seo                    5          0\n",
       "2      US   28         1    Seo                    4          0\n",
       "3   China   39         1    Seo                    5          0\n",
       "4      US   30         1    Seo                    6          0"
      ]
     },
     "execution_count": 3,
     "metadata": {},
     "output_type": "execute_result"
    }
   ],
   "source": [
    "df = pd.read_csv(\"conversion_data.csv\")\n",
    "df.head()"
   ]
  },
  {
   "cell_type": "markdown",
   "metadata": {},
   "source": [
    "## Cleaning the Data and Basic Descriptive Analysis"
   ]
  },
  {
   "cell_type": "markdown",
   "metadata": {},
   "source": [
    "First, I'll check for null or missing values."
   ]
  },
  {
   "cell_type": "code",
   "execution_count": 4,
   "metadata": {
    "collapsed": false
   },
   "outputs": [
    {
     "name": "stdout",
     "output_type": "stream",
     "text": [
      "Data types in country column: [<type 'str'>]\n",
      "# of null values in country column: 0\n",
      "\n",
      "Data types in age column: [<type 'int'>]\n",
      "# of null values in age column: 0\n",
      "\n",
      "Data types in new_user column: [<type 'int'>]\n",
      "# of null values in new_user column: 0\n",
      "\n",
      "Data types in source column: [<type 'str'>]\n",
      "# of null values in source column: 0\n",
      "\n",
      "Data types in total_pages_visited column: [<type 'int'>]\n",
      "# of null values in total_pages_visited column: 0\n",
      "\n",
      "Data types in converted column: [<type 'int'>]\n",
      "# of null values in converted column: 0\n",
      "\n"
     ]
    }
   ],
   "source": [
    "for col in df.columns:\n",
    "    print \"Data types in {} column: {}\".format(col, df[col].apply(type).unique())\n",
    "    print \"# of null values in {} column: {}\\n\".format(col, df[col].isnull().sum())"
   ]
  },
  {
   "cell_type": "markdown",
   "metadata": {},
   "source": [
    "Doesn't look like any missing or null values are present. Now, I'll check for outliers. "
   ]
  },
  {
   "cell_type": "code",
   "execution_count": 5,
   "metadata": {
    "collapsed": false
   },
   "outputs": [
    {
     "data": {
      "text/plain": [
       "<seaborn.axisgrid.PairGrid at 0x113ed0250>"
      ]
     },
     "execution_count": 5,
     "metadata": {},
     "output_type": "execute_result"
    },
    {
     "data": {
      "image/png": "[encoded data removed]",
      "text/plain": [
       "<matplotlib.figure.Figure at 0x1039fe610>"
      ]
     },
     "metadata": {},
     "output_type": "display_data"
    }
   ],
   "source": [
    "# Look for outliers or major skew\n",
    "sns.pairplot(df[[\"age\", \"total_pages_visited\"]])"
   ]
  },
  {
   "cell_type": "markdown",
   "metadata": {},
   "source": [
    "Looks like a few outliers in age. No fancy stats method is needed here, just remove anything with an age > 80."
   ]
  },
  {
   "cell_type": "code",
   "execution_count": 6,
   "metadata": {
    "collapsed": false
   },
   "outputs": [],
   "source": [
    "# Remove outliers\n",
    "df = df[df.age < 80]"
   ]
  },
  {
   "cell_type": "markdown",
   "metadata": {},
   "source": [
    "After cleaning and removing outliers, we can take a look at the overall descriptive statistics before moving on."
   ]
  },
  {
   "cell_type": "code",
   "execution_count": 7,
   "metadata": {
    "collapsed": false
   },
   "outputs": [
    {
     "data": {
      "text/html": [
       "<div>\n",
       "<table border=\"1\" class=\"dataframe\">\n",
       "  <thead>\n",
       "    <tr style=\"text-align: right;\">\n",
       "      <th></th>\n",
       "      <th>age</th>\n",
       "      <th>new_user</th>\n",
       "      <th>total_pages_visited</th>\n",
       "      <th>converted</th>\n",
       "    </tr>\n",
       "  </thead>\n",
       "  <tbody>\n",
       "    <tr>\n",
       "      <th>count</th>\n",
       "      <td>316198.000000</td>\n",
       "      <td>316198.000000</td>\n",
       "      <td>316198.000000</td>\n",
       "      <td>316198.000000</td>\n",
       "    </tr>\n",
       "    <tr>\n",
       "      <th>mean</th>\n",
       "      <td>30.569311</td>\n",
       "      <td>0.685469</td>\n",
       "      <td>4.872918</td>\n",
       "      <td>0.032252</td>\n",
       "    </tr>\n",
       "    <tr>\n",
       "      <th>std</th>\n",
       "      <td>8.268958</td>\n",
       "      <td>0.464329</td>\n",
       "      <td>3.341053</td>\n",
       "      <td>0.176669</td>\n",
       "    </tr>\n",
       "    <tr>\n",
       "      <th>min</th>\n",
       "      <td>17.000000</td>\n",
       "      <td>0.000000</td>\n",
       "      <td>1.000000</td>\n",
       "      <td>0.000000</td>\n",
       "    </tr>\n",
       "    <tr>\n",
       "      <th>25%</th>\n",
       "      <td>24.000000</td>\n",
       "      <td>0.000000</td>\n",
       "      <td>2.000000</td>\n",
       "      <td>0.000000</td>\n",
       "    </tr>\n",
       "    <tr>\n",
       "      <th>50%</th>\n",
       "      <td>30.000000</td>\n",
       "      <td>1.000000</td>\n",
       "      <td>4.000000</td>\n",
       "      <td>0.000000</td>\n",
       "    </tr>\n",
       "    <tr>\n",
       "      <th>75%</th>\n",
       "      <td>36.000000</td>\n",
       "      <td>1.000000</td>\n",
       "      <td>7.000000</td>\n",
       "      <td>0.000000</td>\n",
       "    </tr>\n",
       "    <tr>\n",
       "      <th>max</th>\n",
       "      <td>79.000000</td>\n",
       "      <td>1.000000</td>\n",
       "      <td>29.000000</td>\n",
       "      <td>1.000000</td>\n",
       "    </tr>\n",
       "  </tbody>\n",
       "</table>\n",
       "</div>"
      ],
      "text/plain": [
       "                 age       new_user  total_pages_visited      converted\n",
       "count  316198.000000  316198.000000        316198.000000  316198.000000\n",
       "mean       30.569311       0.685469             4.872918       0.032252\n",
       "std         8.268958       0.464329             3.341053       0.176669\n",
       "min        17.000000       0.000000             1.000000       0.000000\n",
       "25%        24.000000       0.000000             2.000000       0.000000\n",
       "50%        30.000000       1.000000             4.000000       0.000000\n",
       "75%        36.000000       1.000000             7.000000       0.000000\n",
       "max        79.000000       1.000000            29.000000       1.000000"
      ]
     },
     "execution_count": 7,
     "metadata": {},
     "output_type": "execute_result"
    }
   ],
   "source": [
    "# List basic descriptive statistics for all numerical data\n",
    "df.describe()"
   ]
  },
  {
   "cell_type": "markdown",
   "metadata": {},
   "source": [
    "I'll also visualize some aspects of the data.    \n",
    "\n",
    "First, looking at the conversion rate per country we see that China sticks out quite a bit as these users tend to be very hard to convert. One possible reason is that marketing channels may be all english. If the company is interested in increasing Chinese conversion rates, perhaps they could look into translating some of the marketing channels to either Mandarin or Cantonese? Another feature to notice is that German users seem to be the easiest to convert. These points are particular poignant considering the comparison between populations (see 2nd plot below)."
   ]
  },
  {
   "cell_type": "code",
   "execution_count": 8,
   "metadata": {
    "collapsed": false
   },
   "outputs": [
    {
     "data": {
      "text/plain": [
       "<matplotlib.text.Text at 0x115fdcc50>"
      ]
     },
     "execution_count": 8,
     "metadata": {},
     "output_type": "execute_result"
    },
    {
     "data": {
      "image/png": "[encoded data removed]",
      "text/plain": [
       "<matplotlib.figure.Figure at 0x115f92350>"
      ]
     },
     "metadata": {},
     "output_type": "display_data"
    }
   ],
   "source": [
    "# Display conversion rates per country\n",
    "country_conversion_rate = []\n",
    "for country in df.country.unique():\n",
    "    country_conversion_rate.append((country, \n",
    "                                    df[df.country == country].converted.sum() * 1.0 / \n",
    "                                    df[df.country == country].shape[0]))\n",
    "\n",
    "labels, ys = zip(*country_conversion_rate)\n",
    "xs = np.arange(len(labels)) \n",
    "width = 1\n",
    "plt.bar(xs, ys, width, align='center')\n",
    "\n",
    "plt.xticks(xs, labels, fontsize=12, rotation=70)\n",
    "plt.yticks([0, .01, .02, .03, .04, .05, .06, .07], fontsize=12)\n",
    "\n",
    "plt.title(\"Conversion Rate per Country\", fontsize=20)\n",
    "plt.xlabel(\"Country\", fontsize=15)\n",
    "plt.ylabel(\"Conversion Rate\", fontsize=15)"
   ]
  },
  {
   "cell_type": "code",
   "execution_count": 9,
   "metadata": {
    "collapsed": false
   },
   "outputs": [
    {
     "data": {
      "text/plain": [
       "<matplotlib.text.Text at 0x10fb81590>"
      ]
     },
     "execution_count": 9,
     "metadata": {},
     "output_type": "execute_result"
    },
    {
     "data": {
      "image/png": "[encoded data removed]",
      "text/plain": [
       "<matplotlib.figure.Figure at 0x115ff45d0>"
      ]
     },
     "metadata": {},
     "output_type": "display_data"
    }
   ],
   "source": [
    "# Compare populations for each country\n",
    "pops = [(\"UK\",65111143 / 1000000.0), \n",
    "        (\"US\",324118787 / 1000000.0), \n",
    "        (\"China\",1382323332 / 1000000.0), \n",
    "        (\"Germany\",80682351 / 1000000.0)]\n",
    "\n",
    "labels, ys = zip(*pops)\n",
    "xs = np.arange(len(labels)) \n",
    "width = 1\n",
    "plt.bar(xs, ys, width, align='center')\n",
    "\n",
    "plt.xticks(xs, labels, fontsize=12, rotation=70)\n",
    "plt.title(\"Population per Country\", fontsize=20)\n",
    "plt.xlabel(\"Country\", fontsize=15)\n",
    "plt.ylabel(\"Population (millions)\", fontsize=15)"
   ]
  },
  {
   "cell_type": "markdown",
   "metadata": {},
   "source": [
    "Next, I plot the mean conversion rate per total pages visited. This presents a very clear pattern of \"the more time spent on the site the more likely a user is to convert\"."
   ]
  },
  {
   "cell_type": "code",
   "execution_count": 10,
   "metadata": {
    "collapsed": false
   },
   "outputs": [
    {
     "data": {
      "text/plain": [
       "<matplotlib.text.Text at 0x1141bd810>"
      ]
     },
     "execution_count": 10,
     "metadata": {},
     "output_type": "execute_result"
    },
    {
     "data": {
      "image/png": "[encoded data removed]",
      "text/plain": [
       "<matplotlib.figure.Figure at 0x115fdea10>"
      ]
     },
     "metadata": {},
     "output_type": "display_data"
    }
   ],
   "source": [
    "new_df = pd.DataFrame(columns=(\"total_pages_visited\", \"mean_conversion_rate\"))\n",
    "ser = df.groupby(\"total_pages_visited\")[\"converted\"].mean()\n",
    "new_df.total_pages_visited = ser.index\n",
    "new_df.mean_conversion_rate = ser.values\n",
    "\n",
    "new_df.plot(x=\"total_pages_visited\", y=\"mean_conversion_rate\", kind=\"line\", legend=None)\n",
    "plt.xlabel(\"Total pages visited\", fontsize=15)\n",
    "plt.ylabel(\"Mean conversion rate\", fontsize=15)"
   ]
  },
  {
   "cell_type": "markdown",
   "metadata": {},
   "source": [
    "## Feature Engineering   \n",
    "\n",
    "Here, I one-hot-encode the country and source categorial features and use standard normal scaling for the age and total_pages_visited features."
   ]
  },
  {
   "cell_type": "code",
   "execution_count": 11,
   "metadata": {
    "collapsed": false
   },
   "outputs": [
    {
     "data": {
      "text/html": [
       "<div>\n",
       "<table border=\"1\" class=\"dataframe\">\n",
       "  <thead>\n",
       "    <tr style=\"text-align: right;\">\n",
       "      <th></th>\n",
       "      <th>country_UK</th>\n",
       "      <th>country_US</th>\n",
       "      <th>country_Germany</th>\n",
       "      <th>country_China</th>\n",
       "      <th>source_Ads</th>\n",
       "      <th>source_Direct</th>\n",
       "      <th>source_Seo</th>\n",
       "      <th>age</th>\n",
       "      <th>new_user</th>\n",
       "      <th>total_pages_visited</th>\n",
       "      <th>converted</th>\n",
       "    </tr>\n",
       "  </thead>\n",
       "  <tbody>\n",
       "    <tr>\n",
       "      <th>0</th>\n",
       "      <td>1.0</td>\n",
       "      <td>0.0</td>\n",
       "      <td>0.0</td>\n",
       "      <td>0.0</td>\n",
       "      <td>1.0</td>\n",
       "      <td>0.0</td>\n",
       "      <td>0.0</td>\n",
       "      <td>-0.673520</td>\n",
       "      <td>1</td>\n",
       "      <td>-1.159191</td>\n",
       "      <td>0</td>\n",
       "    </tr>\n",
       "    <tr>\n",
       "      <th>1</th>\n",
       "      <td>0.0</td>\n",
       "      <td>1.0</td>\n",
       "      <td>0.0</td>\n",
       "      <td>0.0</td>\n",
       "      <td>0.0</td>\n",
       "      <td>0.0</td>\n",
       "      <td>1.0</td>\n",
       "      <td>-0.915389</td>\n",
       "      <td>1</td>\n",
       "      <td>0.038036</td>\n",
       "      <td>0</td>\n",
       "    </tr>\n",
       "    <tr>\n",
       "      <th>2</th>\n",
       "      <td>0.0</td>\n",
       "      <td>1.0</td>\n",
       "      <td>0.0</td>\n",
       "      <td>0.0</td>\n",
       "      <td>0.0</td>\n",
       "      <td>0.0</td>\n",
       "      <td>1.0</td>\n",
       "      <td>-0.310718</td>\n",
       "      <td>1</td>\n",
       "      <td>-0.261270</td>\n",
       "      <td>0</td>\n",
       "    </tr>\n",
       "    <tr>\n",
       "      <th>3</th>\n",
       "      <td>0.0</td>\n",
       "      <td>0.0</td>\n",
       "      <td>0.0</td>\n",
       "      <td>1.0</td>\n",
       "      <td>0.0</td>\n",
       "      <td>0.0</td>\n",
       "      <td>1.0</td>\n",
       "      <td>1.019559</td>\n",
       "      <td>1</td>\n",
       "      <td>0.038036</td>\n",
       "      <td>0</td>\n",
       "    </tr>\n",
       "    <tr>\n",
       "      <th>4</th>\n",
       "      <td>0.0</td>\n",
       "      <td>1.0</td>\n",
       "      <td>0.0</td>\n",
       "      <td>0.0</td>\n",
       "      <td>0.0</td>\n",
       "      <td>0.0</td>\n",
       "      <td>1.0</td>\n",
       "      <td>-0.068849</td>\n",
       "      <td>1</td>\n",
       "      <td>0.337343</td>\n",
       "      <td>0</td>\n",
       "    </tr>\n",
       "  </tbody>\n",
       "</table>\n",
       "</div>"
      ],
      "text/plain": [
       "   country_UK  country_US  country_Germany  country_China  source_Ads  \\\n",
       "0         1.0         0.0              0.0            0.0         1.0   \n",
       "1         0.0         1.0              0.0            0.0         0.0   \n",
       "2         0.0         1.0              0.0            0.0         0.0   \n",
       "3         0.0         0.0              0.0            1.0         0.0   \n",
       "4         0.0         1.0              0.0            0.0         0.0   \n",
       "\n",
       "   source_Direct  source_Seo       age  new_user  total_pages_visited  \\\n",
       "0            0.0         0.0 -0.673520         1            -1.159191   \n",
       "1            0.0         1.0 -0.915389         1             0.038036   \n",
       "2            0.0         1.0 -0.310718         1            -0.261270   \n",
       "3            0.0         1.0  1.019559         1             0.038036   \n",
       "4            0.0         1.0 -0.068849         1             0.337343   \n",
       "\n",
       "   converted  \n",
       "0          0  \n",
       "1          0  \n",
       "2          0  \n",
       "3          0  \n",
       "4          0  "
      ]
     },
     "execution_count": 11,
     "metadata": {},
     "output_type": "execute_result"
    }
   ],
   "source": [
    "# Create dummy variables for country values\n",
    "country_dummies = pd.get_dummies(df.country, prefix='country')\n",
    "df = pd.concat([df, country_dummies], axis=1)\n",
    "\n",
    "# Create dummy variables for source values\n",
    "source_dummies = pd.get_dummies(df.source, prefix='source')\n",
    "df = pd.concat([df, source_dummies], axis=1)\n",
    "\n",
    "# Normally scale age and total_pages_visited features\n",
    "feature_list = [\"age\", \"total_pages_visited\"]\n",
    "feature_dict = {}\n",
    "for feature in feature_list:\n",
    "    feature_dict[feature + \"_mean\"] = df[feature].mean()\n",
    "    feature_dict[feature + \"_std\"] = df[feature].std()\n",
    "    df[feature] = (df[feature] - df[feature].mean()) * 1.0 / df[feature].std()\n",
    "\n",
    "# Drop spurious columns\n",
    "df.drop([\"country\", \"source\"], axis=1, inplace=1)\n",
    "\n",
    "# Organize columns\n",
    "df = df[[\"country_UK\", \n",
    "            \"country_US\", \n",
    "            \"country_Germany\", \n",
    "            \"country_China\", \n",
    "            \"source_Ads\", \n",
    "            \"source_Direct\", \n",
    "            \"source_Seo\", \n",
    "            \"age\", \n",
    "            \"new_user\", \n",
    "            \"total_pages_visited\", \n",
    "            \"converted\"]]\n",
    "df.head()"
   ]
  },
  {
   "cell_type": "markdown",
   "metadata": {},
   "source": [
    "## Machine Learning   \n",
    "\n",
    "Here, I split the data into 3 parts for training, hyperparameter tuning, and validation. I chose to use a random forest classification algorithm as it tends to require very little time to optimize, has lots of complexity to handle difficult datasets, and is also fairly robust against overfitting due to its nature of taking a majority vote of randomly generated weak learners. With more time, I would also explore other models, e.g., logistic regression. To account for the class imbalance in the data, I reweight the classes using the class_weight flag passed to the random forest classifier at initialization."
   ]
  },
  {
   "cell_type": "code",
   "execution_count": 12,
   "metadata": {
    "collapsed": false
   },
   "outputs": [
    {
     "name": "stdout",
     "output_type": "stream",
     "text": [
      "Fitting 5 folds for each of 10 candidates, totalling 50 fits\n",
      "[CV] n_estimators=150, criterion=gini, max_depth=5 ...................\n",
      "[CV] n_estimators=150, criterion=gini, max_depth=5 ...................\n",
      "[CV] n_estimators=150, criterion=gini, max_depth=5 ...................\n",
      "[CV] n_estimators=150, criterion=gini, max_depth=5 ...................\n",
      "[CV] n_estimators=150, criterion=gini, max_depth=5 ...................\n",
      "[CV] n_estimators=100, criterion=entropy, max_depth=3 ................\n",
      "[CV] n_estimators=100, criterion=entropy, max_depth=3 ................\n",
      "[CV] n_estimators=100, criterion=entropy, max_depth=3 ................\n",
      "[CV] n_estimators=100, criterion=entropy, max_depth=3 ................\n",
      "[CV] n_estimators=100, criterion=entropy, max_depth=3 ................\n",
      "[CV]  n_estimators=100, criterion=entropy, max_depth=3, score=0.942125 -  24.5s\n",
      "[CV] n_estimators=150, criterion=entropy, max_depth=5 ................\n",
      "[CV]  n_estimators=100, criterion=entropy, max_depth=3, score=0.947185 -  24.5s\n",
      "[CV]  n_estimators=100, criterion=entropy, max_depth=3, score=0.943796 -  24.4s\n",
      "[CV] n_estimators=150, criterion=entropy, max_depth=5 ................\n",
      "[CV]  n_estimators=100, criterion=entropy, max_depth=3, score=0.943368 -  24.7s\n",
      "[CV] n_estimators=150, criterion=entropy, max_depth=5 ................\n",
      "[CV] n_estimators=150, criterion=entropy, max_depth=5 ................\n",
      "[CV]  n_estimators=100, criterion=entropy, max_depth=3, score=0.946190 -  24.6s\n",
      "[CV] n_estimators=150, criterion=entropy, max_depth=5 ................\n"
     ]
    },
    {
     "name": "stderr",
     "output_type": "stream",
     "text": [
      "[Parallel(n_jobs=10)]: Done   5 tasks      | elapsed:   25.8s\n"
     ]
    },
    {
     "name": "stdout",
     "output_type": "stream",
     "text": [
      "[CV]  n_estimators=150, criterion=gini, max_depth=5, score=0.937833 -  47.8s\n",
      "[CV] n_estimators=100, criterion=gini, max_depth=3 ...................\n",
      "[CV]  n_estimators=150, criterion=gini, max_depth=5, score=0.938262 -  48.0s\n",
      "[CV] n_estimators=100, criterion=gini, max_depth=3 ...................\n",
      "[CV]  n_estimators=150, criterion=gini, max_depth=5, score=0.938127 -  48.0s\n",
      "[CV] n_estimators=100, criterion=gini, max_depth=3 ...................\n",
      "[CV]  n_estimators=150, criterion=gini, max_depth=5, score=0.941627 -  48.3s\n",
      "[CV]  n_estimators=150, criterion=gini, max_depth=5, score=0.939278 -  48.2s\n",
      "[CV] n_estimators=100, criterion=gini, max_depth=3 ...................\n",
      "[CV] n_estimators=100, criterion=gini, max_depth=3 ...................\n",
      "[CV]  n_estimators=100, criterion=gini, max_depth=3, score=0.942374 -  23.2s\n",
      "[CV] n_estimators=50, criterion=gini, max_depth=3 ....................\n",
      "[CV]  n_estimators=100, criterion=gini, max_depth=3, score=0.943616 -  23.3s\n",
      "[CV] n_estimators=50, criterion=gini, max_depth=3 ....................\n",
      "[CV]  n_estimators=100, criterion=gini, max_depth=3, score=0.943481 -  23.4s\n"
     ]
    },
    {
     "name": "stderr",
     "output_type": "stream",
     "text": [
      "[Parallel(n_jobs=10)]: Done  12 tasks      | elapsed:  1.2min\n"
     ]
    },
    {
     "name": "stdout",
     "output_type": "stream",
     "text": [
      "[CV] n_estimators=50, criterion=gini, max_depth=3 ....................\n",
      "[CV]  n_estimators=150, criterion=entropy, max_depth=5, score=0.942713 -  46.8s\n",
      "[CV] n_estimators=50, criterion=gini, max_depth=3 ....................\n",
      "[CV]  n_estimators=100, criterion=gini, max_depth=3, score=0.942960 -  23.3s\n",
      "[CV] n_estimators=50, criterion=gini, max_depth=3 ....................\n",
      "[CV]  n_estimators=100, criterion=gini, max_depth=3, score=0.943186 -  23.4s\n",
      "[CV] n_estimators=100, criterion=entropy, max_depth=5 ................\n",
      "[CV]  n_estimators=150, criterion=entropy, max_depth=5, score=0.942916 -  47.1s\n",
      "[CV] n_estimators=100, criterion=entropy, max_depth=5 ................\n",
      "[CV]  n_estimators=150, criterion=entropy, max_depth=5, score=0.944880 -  47.1s\n",
      "[CV] n_estimators=100, criterion=entropy, max_depth=5 ................\n",
      "[CV]  n_estimators=150, criterion=entropy, max_depth=5, score=0.943705 -  47.0s\n",
      "[CV] n_estimators=100, criterion=entropy, max_depth=5 ................\n",
      "[CV]  n_estimators=150, criterion=entropy, max_depth=5, score=0.944181 -  47.5s\n",
      "[CV] n_estimators=100, criterion=entropy, max_depth=5 ................\n",
      "[CV]  n_estimators=50, criterion=gini, max_depth=3, score=0.942984 -  12.9s\n",
      "[CV] n_estimators=100, criterion=gini, max_depth=5 ...................\n"
     ]
    },
    {
     "name": "stderr",
     "output_type": "stream",
     "text": [
      "[Parallel(n_jobs=10)]: Done  21 tasks      | elapsed:  1.4min\n"
     ]
    },
    {
     "name": "stdout",
     "output_type": "stream",
     "text": [
      "[CV]  n_estimators=50, criterion=gini, max_depth=3, score=0.938533 -  13.0s\n",
      "[CV] n_estimators=100, criterion=gini, max_depth=5 ...................\n",
      "[CV]  n_estimators=50, criterion=gini, max_depth=3, score=0.944972 -  13.0s\n",
      "[CV]  n_estimators=50, criterion=gini, max_depth=3, score=0.945896 -  12.9s\n",
      "[CV] n_estimators=100, criterion=gini, max_depth=5 ...................\n",
      "[CV] n_estimators=100, criterion=gini, max_depth=5 ...................\n",
      "[CV]  n_estimators=50, criterion=gini, max_depth=3, score=0.945038 -  12.8s\n",
      "[CV] n_estimators=100, criterion=gini, max_depth=5 ...................\n",
      "[CV]  n_estimators=100, criterion=entropy, max_depth=5, score=0.943232 -  32.6s\n",
      "[CV] n_estimators=150, criterion=gini, max_depth=3 ...................\n",
      "[CV]  n_estimators=100, criterion=entropy, max_depth=5, score=0.943187 -  32.5s\n",
      "[CV] n_estimators=150, criterion=gini, max_depth=3 ...................\n",
      "[CV]  n_estimators=100, criterion=entropy, max_depth=5, score=0.943322 -  32.5s\n",
      "[CV] n_estimators=150, criterion=gini, max_depth=3 ...................\n",
      "[CV]  n_estimators=100, criterion=entropy, max_depth=5, score=0.943434 -  32.7s\n",
      "[CV] n_estimators=150, criterion=gini, max_depth=3 ...................\n",
      "[CV]  n_estimators=100, criterion=entropy, max_depth=5, score=0.944360 -  32.6s\n",
      "[CV] n_estimators=150, criterion=gini, max_depth=3 ...................\n"
     ]
    },
    {
     "name": "stderr",
     "output_type": "stream",
     "text": [
      "[Parallel(n_jobs=10)]: Done  30 tasks      | elapsed:  1.8min\n"
     ]
    },
    {
     "name": "stdout",
     "output_type": "stream",
     "text": [
      "[CV]  n_estimators=100, criterion=gini, max_depth=5, score=0.938082 -  32.0s\n",
      "[CV] n_estimators=200, criterion=entropy, max_depth=5 ................\n",
      "[CV]  n_estimators=100, criterion=gini, max_depth=5, score=0.940250 -  32.1s\n",
      "[CV] n_estimators=200, criterion=entropy, max_depth=5 ................\n",
      "[CV]  n_estimators=100, criterion=gini, max_depth=5, score=0.938125 -  32.1s\n",
      "[CV] n_estimators=200, criterion=entropy, max_depth=5 ................\n",
      "[CV]  n_estimators=100, criterion=gini, max_depth=5, score=0.939776 -  32.4s\n",
      "[CV] n_estimators=200, criterion=entropy, max_depth=5 ................\n",
      "[CV]  n_estimators=100, criterion=gini, max_depth=5, score=0.939933 -  32.3s\n",
      "[CV] n_estimators=200, criterion=entropy, max_depth=5 ................\n",
      "[CV]  n_estimators=150, criterion=gini, max_depth=3, score=0.942577 -  34.0s\n",
      "[CV] n_estimators=150, criterion=entropy, max_depth=3 ................\n",
      "[CV]  n_estimators=150, criterion=gini, max_depth=3, score=0.943910 -  34.0s\n",
      "[CV] n_estimators=150, criterion=entropy, max_depth=3 ................\n",
      "[CV]  n_estimators=150, criterion=gini, max_depth=3, score=0.943390 -  34.0s\n"
     ]
    },
    {
     "name": "stderr",
     "output_type": "stream",
     "text": [
      "[Parallel(n_jobs=10)]: Done  37 out of  50 | elapsed:  2.3min remaining:   48.9s\n"
     ]
    },
    {
     "name": "stdout",
     "output_type": "stream",
     "text": [
      "[CV] n_estimators=150, criterion=entropy, max_depth=3 ................\n",
      "[CV]  n_estimators=150, criterion=gini, max_depth=3, score=0.942237 -  34.2s\n",
      "[CV] n_estimators=150, criterion=entropy, max_depth=3 ................\n",
      "[CV]  n_estimators=150, criterion=gini, max_depth=3, score=0.942779 -  34.1s\n",
      "[CV] n_estimators=150, criterion=entropy, max_depth=3 ................\n",
      "[CV]  n_estimators=150, criterion=entropy, max_depth=3, score=0.941651 -  35.3s\n",
      "[CV]  n_estimators=150, criterion=entropy, max_depth=3, score=0.942645 -  35.3s\n",
      "[CV]  n_estimators=150, criterion=entropy, max_depth=3, score=0.944972 -  35.2s\n"
     ]
    },
    {
     "name": "stderr",
     "output_type": "stream",
     "text": [
      "[Parallel(n_jobs=10)]: Done  43 out of  50 | elapsed:  2.9min remaining:   28.4s\n"
     ]
    },
    {
     "name": "stdout",
     "output_type": "stream",
     "text": [
      "[CV]  n_estimators=150, criterion=entropy, max_depth=3, score=0.937109 -  35.1s\n",
      "[CV]  n_estimators=150, criterion=entropy, max_depth=3, score=0.945264 -  35.2s\n",
      "[CV]  n_estimators=200, criterion=entropy, max_depth=5, score=0.943707 - 1.0min\n",
      "[CV]  n_estimators=200, criterion=entropy, max_depth=5, score=0.943774 - 1.0min\n",
      "[CV]  n_estimators=200, criterion=entropy, max_depth=5, score=0.944497 -  59.8s\n",
      "[CV]  n_estimators=200, criterion=entropy, max_depth=5, score=0.944270 -  59.7s\n",
      "[CV]  n_estimators=200, criterion=entropy, max_depth=5, score=0.944089 -  59.6s\n"
     ]
    },
    {
     "name": "stderr",
     "output_type": "stream",
     "text": [
      "[Parallel(n_jobs=10)]: Done  50 out of  50 | elapsed:  3.0min finished\n"
     ]
    }
   ],
   "source": [
    "X = df[[\"country_UK\", \n",
    "            \"country_US\", \n",
    "            \"country_Germany\", \n",
    "            \"country_China\", \n",
    "            \"source_Ads\", \n",
    "            \"source_Direct\", \n",
    "            \"source_Seo\", \n",
    "            \"age\", \n",
    "            \"new_user\", \n",
    "            \"total_pages_visited\"]]\n",
    "Y = df[\"converted\"]\n",
    "\n",
    "# Split data\n",
    "X_dev, X_eval, Y_dev, Y_eval = train_test_split(X, Y, train_size=.7, random_state=23)\n",
    "\n",
    "# Initialize a random forest classifier\n",
    "rf = RandomForestClassifier(class_weight=\"balanced\")\n",
    "\n",
    "# Define a parameter grid to search over\n",
    "param_dist = {\"n_estimators\": range(50, 250, 50),\n",
    "              \"max_depth\": range(3, 7, 2), \n",
    "              'criterion': ['gini', 'entropy']}\n",
    "\n",
    "# Setup 5-fold stratified cross validation\n",
    "cross_validation = StratifiedKFold(Y_dev, n_folds=5)\n",
    "\n",
    "# Randomly sample 10 hyperparameter configurations from the grid above and perform 5-fold cross validation for each\n",
    "n_iter_search = 10\n",
    "clf = RandomizedSearchCV(rf, \n",
    "                         param_distributions=param_dist, \n",
    "                         n_iter=n_iter_search, \n",
    "                         cv=cross_validation, \n",
    "                         n_jobs=10, \n",
    "                         verbose=10)\n",
    "_ = clf.fit(X_dev, Y_dev)\n",
    "\n",
    "rf_best = clf.best_estimator_"
   ]
  },
  {
   "cell_type": "markdown",
   "metadata": {},
   "source": [
    "Here, I validate the data by calculating the area under the curve in ROC space using only the validation dataset set aside earlier. Moreover, I also display a full classification report with precision, recall, and F-1 score.\n",
    "\n",
    "Note that the precision for conversion predictions is quite low compared to that for unconverted. This major imbalance makes me think that perhaps the class reweighting implemented at initialization of the random forest classifier didn't work so well."
   ]
  },
  {
   "cell_type": "code",
   "execution_count": 13,
   "metadata": {
    "collapsed": false
   },
   "outputs": [
    {
     "name": "stdout",
     "output_type": "stream",
     "text": [
      "Classification report for Random Forest\n",
      "             precision    recall  f1-score   support\n",
      "\n",
      "unconverted       1.00      0.95      0.97     91702\n",
      "  converted       0.37      0.92      0.53      3158\n",
      "\n",
      "avg / total       0.98      0.94      0.96     94860\n",
      "\n",
      "Area under ROC curve: 0.934\n"
     ]
    },
    {
     "data": {
      "image/png": "[encoded data removed]",
      "text/plain": [
       "<matplotlib.figure.Figure at 0x125dc2910>"
      ]
     },
     "metadata": {},
     "output_type": "display_data"
    }
   ],
   "source": [
    "# Collect RF predictions\n",
    "rf_Ypredicted = rf_best.predict(X_eval)\n",
    "rf_roc_auc = roc_auc_score(Y_eval, rf_Ypredicted)\n",
    "\n",
    "print \"Classification report for Random Forest\"\n",
    "print classification_report(Y_eval, \n",
    "                            rf_Ypredicted,\n",
    "                            target_names=[\"unconverted\", \"converted\"])\n",
    "print \"Area under ROC curve: {:0.3f}\".format(rf_roc_auc)\n",
    "\n",
    "\n",
    "# Compute ROC curve and area under the curve for RF\n",
    "rf_probs = rf_best.predict_proba(X_eval)[:, 1]\n",
    "rf_fpr, rf_tpr, thresholds = roc_curve(Y_eval, rf_probs)\n",
    "\n",
    "plt.plot(rf_fpr, rf_tpr, lw=1, label='AUC = %0.2f'%(rf_roc_auc))\n",
    "\n",
    "plt.plot([0, 1], [0, 1], '--', color=(0.6, 0.6, 0.6), label='Luck')\n",
    "plt.xlim([-0.05, 1.05])\n",
    "plt.ylim([-0.05, 1.05])\n",
    "plt.xlabel('False Positive Rate', fontsize=15)\n",
    "plt.ylabel('True Positive Rate', fontsize=15)\n",
    "plt.title('ROC curve', fontsize=15)\n",
    "plt.legend(loc=\"best\", frameon = True).get_frame().set_edgecolor('black')\n",
    "plt.grid(True, linestyle = 'dotted')\n",
    "plt.show()"
   ]
  },
  {
   "cell_type": "markdown",
   "metadata": {},
   "source": [
    "Here, I repeat the ML pipeline but with the addition of performing a random upsampling of the data in an effort to address the rather low precision associated with predicting conversions."
   ]
  },
  {
   "cell_type": "code",
   "execution_count": 14,
   "metadata": {
    "collapsed": false
   },
   "outputs": [
    {
     "name": "stdout",
     "output_type": "stream",
     "text": [
      "Fitting 5 folds for each of 10 candidates, totalling 50 fits\n",
      "[CV] n_estimators=50, criterion=entropy, max_depth=5 .................\n",
      "[CV] n_estimators=50, criterion=entropy, max_depth=5 .................\n",
      "[CV] n_estimators=50, criterion=entropy, max_depth=5 .................\n",
      "[CV] n_estimators=50, criterion=entropy, max_depth=5 .................\n",
      "[CV] n_estimators=50, criterion=entropy, max_depth=5 .................\n",
      "[CV] n_estimators=150, criterion=gini, max_depth=5 ...................\n",
      "[CV] n_estimators=150, criterion=gini, max_depth=5 ...................\n",
      "[CV] n_estimators=150, criterion=gini, max_depth=5 ...................\n",
      "[CV] n_estimators=150, criterion=gini, max_depth=5 ...................\n",
      "[CV] n_estimators=150, criterion=gini, max_depth=5 ...................\n",
      "[CV]  n_estimators=50, criterion=entropy, max_depth=5, score=0.935049 -  50.0s\n",
      "[CV] n_estimators=150, criterion=gini, max_depth=3 ...................\n",
      "[CV]  n_estimators=50, criterion=entropy, max_depth=5, score=0.937302 -  50.2s\n",
      "[CV] n_estimators=150, criterion=gini, max_depth=3 ...................\n",
      "[CV]  n_estimators=50, criterion=entropy, max_depth=5, score=0.935247 -  50.3s\n",
      "[CV] n_estimators=150, criterion=gini, max_depth=3 ...................\n",
      "[CV]  n_estimators=50, criterion=entropy, max_depth=5, score=0.935503 -  50.7s\n",
      "[CV]  n_estimators=50, criterion=entropy, max_depth=5, score=0.935458 -  50.8s\n",
      "[CV] n_estimators=150, criterion=gini, max_depth=3 ...................\n",
      "[CV] n_estimators=150, criterion=gini, max_depth=3 ...................\n"
     ]
    },
    {
     "name": "stderr",
     "output_type": "stream",
     "text": [
      "[Parallel(n_jobs=10)]: Done   5 tasks      | elapsed:   51.5s\n"
     ]
    },
    {
     "name": "stdout",
     "output_type": "stream",
     "text": [
      "[CV]  n_estimators=150, criterion=gini, max_depth=5, score=0.939496 - 2.6min\n",
      "[CV] n_estimators=200, criterion=gini, max_depth=3 ...................\n",
      "[CV]  n_estimators=150, criterion=gini, max_depth=5, score=0.939602 - 2.6min\n",
      "[CV] n_estimators=200, criterion=gini, max_depth=3 ...................\n",
      "[CV]  n_estimators=150, criterion=gini, max_depth=5, score=0.939157 - 2.6min\n",
      "[CV] n_estimators=200, criterion=gini, max_depth=3 ...................\n",
      "[CV]  n_estimators=150, criterion=gini, max_depth=3, score=0.935224 - 1.8min\n",
      "[CV]  n_estimators=150, criterion=gini, max_depth=5, score=0.939286 - 2.6min\n",
      "[CV] n_estimators=200, criterion=gini, max_depth=3 ...................\n",
      "[CV]  n_estimators=150, criterion=gini, max_depth=3, score=0.936742 - 1.8min\n",
      "[CV]  n_estimators=150, criterion=gini, max_depth=3, score=0.933987 - 1.8min\n",
      "[CV] n_estimators=200, criterion=gini, max_depth=3 ...................\n"
     ]
    },
    {
     "name": "stderr",
     "output_type": "stream",
     "text": [
      "[Parallel(n_jobs=10)]: Done  12 tasks      | elapsed:  2.6min\n"
     ]
    },
    {
     "name": "stdout",
     "output_type": "stream",
     "text": [
      "[CV] n_estimators=100, criterion=entropy, max_depth=3 ................\n",
      "[CV]  n_estimators=150, criterion=gini, max_depth=3, score=0.936228 - 1.8min\n",
      "[CV]  n_estimators=150, criterion=gini, max_depth=5, score=0.939904 - 2.6min\n",
      "[CV] n_estimators=100, criterion=entropy, max_depth=3 ................\n",
      "[CV] n_estimators=100, criterion=entropy, max_depth=3 ................\n",
      "[CV]  n_estimators=150, criterion=gini, max_depth=3, score=0.936239 - 1.8min\n",
      "[CV] n_estimators=100, criterion=entropy, max_depth=3 ................\n",
      "[CV] n_estimators=100, criterion=entropy, max_depth=3 ................\n",
      "[CV]  n_estimators=100, criterion=entropy, max_depth=3, score=0.935283 - 1.1min\n",
      "[CV] n_estimators=200, criterion=entropy, max_depth=3 ................\n",
      "[CV]  n_estimators=100, criterion=entropy, max_depth=3, score=0.932388 - 1.1min\n",
      "[CV] n_estimators=200, criterion=entropy, max_depth=3 ................\n",
      "[CV]  n_estimators=100, criterion=entropy, max_depth=3, score=0.932376 - 1.1min\n",
      "[CV] n_estimators=200, criterion=entropy, max_depth=3 ................\n",
      "[CV]  n_estimators=100, criterion=entropy, max_depth=3, score=0.934115 - 1.1min\n",
      "[CV] n_estimators=200, criterion=entropy, max_depth=3 ................\n",
      "[CV]  n_estimators=100, criterion=entropy, max_depth=3, score=0.933240 - 1.2min\n",
      "[CV] n_estimators=200, criterion=entropy, max_depth=3 ................\n",
      "[CV]  n_estimators=200, criterion=gini, max_depth=3, score=0.934886 - 2.2min\n",
      "[CV] n_estimators=100, criterion=gini, max_depth=3 ...................\n"
     ]
    },
    {
     "name": "stderr",
     "output_type": "stream",
     "text": [
      "[Parallel(n_jobs=10)]: Done  21 tasks      | elapsed:  4.8min\n"
     ]
    },
    {
     "name": "stdout",
     "output_type": "stream",
     "text": [
      "[CV]  n_estimators=200, criterion=gini, max_depth=3, score=0.934267 - 2.2min\n",
      "[CV] n_estimators=100, criterion=gini, max_depth=3 ...................\n",
      "[CV]  n_estimators=200, criterion=gini, max_depth=3, score=0.932061 - 2.2min\n",
      "[CV] n_estimators=100, criterion=gini, max_depth=3 ...................\n",
      "[CV]  n_estimators=200, criterion=gini, max_depth=3, score=0.932283 - 2.2min\n",
      "[CV] n_estimators=100, criterion=gini, max_depth=3 ...................\n",
      "[CV]  n_estimators=200, criterion=gini, max_depth=3, score=0.934278 - 2.2min\n",
      "[CV] n_estimators=100, criterion=gini, max_depth=3 ...................\n",
      "[CV]  n_estimators=100, criterion=gini, max_depth=3, score=0.936707 - 1.1min\n",
      "[CV] n_estimators=100, criterion=entropy, max_depth=5 ................\n",
      "[CV]  n_estimators=200, criterion=entropy, max_depth=3, score=0.935190 - 2.1min\n",
      "[CV] n_estimators=100, criterion=entropy, max_depth=5 ................\n",
      "[CV]  n_estimators=100, criterion=gini, max_depth=3, score=0.934711 - 1.1min\n",
      "[CV]  n_estimators=100, criterion=gini, max_depth=3, score=0.935387 - 1.1min\n",
      "[CV] n_estimators=100, criterion=entropy, max_depth=5 ................\n",
      "[CV] n_estimators=100, criterion=entropy, max_depth=5 ................\n",
      "[CV]  n_estimators=100, criterion=gini, max_depth=3, score=0.936437 - 1.1min\n",
      "[CV] n_estimators=100, criterion=entropy, max_depth=5 ................\n",
      "[CV]  n_estimators=100, criterion=gini, max_depth=3, score=0.935469 - 1.1min\n",
      "[CV]  n_estimators=200, criterion=entropy, max_depth=3, score=0.932260 - 2.1min\n"
     ]
    },
    {
     "name": "stderr",
     "output_type": "stream",
     "text": [
      "[Parallel(n_jobs=10)]: Done  30 tasks      | elapsed:  5.9min\n"
     ]
    },
    {
     "name": "stdout",
     "output_type": "stream",
     "text": [
      "[CV] n_estimators=100, criterion=gini, max_depth=5 ...................\n",
      "[CV] n_estimators=100, criterion=gini, max_depth=5 ...................\n",
      "[CV]  n_estimators=200, criterion=entropy, max_depth=3, score=0.932680 - 2.1min\n",
      "[CV] n_estimators=100, criterion=gini, max_depth=5 ...................\n",
      "[CV]  n_estimators=200, criterion=entropy, max_depth=3, score=0.934209 - 2.1min\n",
      "[CV] n_estimators=100, criterion=gini, max_depth=5 ...................\n",
      "[CV]  n_estimators=200, criterion=entropy, max_depth=3, score=0.934360 - 2.1min\n",
      "[CV] n_estimators=100, criterion=gini, max_depth=5 ...................\n",
      "[CV]  n_estimators=100, criterion=entropy, max_depth=5, score=0.935633 - 1.7min\n",
      "[CV] n_estimators=200, criterion=gini, max_depth=5 ...................\n",
      "[CV]  n_estimators=100, criterion=entropy, max_depth=5, score=0.935048 - 1.7min\n",
      "[CV] n_estimators=200, criterion=gini, max_depth=5 ...................\n",
      "[CV]  n_estimators=100, criterion=entropy, max_depth=5, score=0.934711 - 1.7min\n"
     ]
    },
    {
     "name": "stderr",
     "output_type": "stream",
     "text": [
      "[Parallel(n_jobs=10)]: Done  37 out of  50 | elapsed:  7.6min remaining:  2.7min\n"
     ]
    },
    {
     "name": "stdout",
     "output_type": "stream",
     "text": [
      "[CV] n_estimators=200, criterion=gini, max_depth=5 ...................\n",
      "[CV]  n_estimators=100, criterion=gini, max_depth=5, score=0.939613 - 1.7min\n",
      "[CV] n_estimators=200, criterion=gini, max_depth=5 ...................\n",
      "[CV]  n_estimators=100, criterion=entropy, max_depth=5, score=0.935049 - 1.7min\n",
      "[CV] n_estimators=200, criterion=gini, max_depth=5 ...................\n",
      "[CV]  n_estimators=100, criterion=entropy, max_depth=5, score=0.934746 - 1.7min\n",
      "[CV]  n_estimators=100, criterion=gini, max_depth=5, score=0.938562 - 1.7min\n",
      "[CV]  n_estimators=100, criterion=gini, max_depth=5, score=0.938469 - 1.7min\n"
     ]
    },
    {
     "name": "stderr",
     "output_type": "stream",
     "text": [
      "[Parallel(n_jobs=10)]: Done  43 out of  50 | elapsed:  7.6min remaining:  1.2min\n"
     ]
    },
    {
     "name": "stdout",
     "output_type": "stream",
     "text": [
      "[CV]  n_estimators=100, criterion=gini, max_depth=5, score=0.938492 - 1.7min\n",
      "[CV]  n_estimators=100, criterion=gini, max_depth=5, score=0.939927 - 1.7min\n",
      "[CV]  n_estimators=200, criterion=gini, max_depth=5, score=0.939485 - 1.6min\n",
      "[CV]  n_estimators=200, criterion=gini, max_depth=5, score=0.938550 - 1.6min\n",
      "[CV]  n_estimators=200, criterion=gini, max_depth=5, score=0.938819 - 1.6min\n",
      "[CV]  n_estimators=200, criterion=gini, max_depth=5, score=0.938749 - 1.6min\n",
      "[CV]  n_estimators=200, criterion=gini, max_depth=5, score=0.938771 - 1.6min\n"
     ]
    },
    {
     "name": "stderr",
     "output_type": "stream",
     "text": [
      "[Parallel(n_jobs=10)]: Done  50 out of  50 | elapsed:  9.2min finished\n"
     ]
    }
   ],
   "source": [
    "# Import module to help with oversampling\n",
    "from imblearn.over_sampling import RandomOverSampler\n",
    "\n",
    "feature_list = X.columns\n",
    "\n",
    "# Apply the random over-sampling\n",
    "ros = RandomOverSampler()\n",
    "X, Y = ros.fit_sample(X, Y)\n",
    "\n",
    "# Restore resampled data to dataframe format\n",
    "X = pd.DataFrame(X, index=range( X.shape[0] ), columns=feature_list)\n",
    "Y = pd.Series(Y)\n",
    "\n",
    "# Split data\n",
    "X_dev, X_eval, Y_dev, Y_eval = train_test_split(X, Y, train_size=.7, random_state=23)\n",
    "\n",
    "# Initialize a random forest classifier\n",
    "rf = RandomForestClassifier()\n",
    "\n",
    "# Define a parameter grid to search over\n",
    "param_dist = {\"n_estimators\": range(50, 250, 50),\n",
    "              \"max_depth\": range(3, 7, 2), \n",
    "              'criterion': ['gini', 'entropy']}\n",
    "\n",
    "# Setup 5-fold stratified cross validation\n",
    "cross_validation = StratifiedKFold(Y_dev, n_folds=5)\n",
    "\n",
    "# Randomly sample 10 hyperparameter configurations from the grid above and perform 5-fold cross validation for each\n",
    "n_iter_search = 10\n",
    "clf = RandomizedSearchCV(rf, \n",
    "                         param_distributions=param_dist, \n",
    "                         n_iter=n_iter_search, \n",
    "                         cv=cross_validation, \n",
    "                         n_jobs=10, \n",
    "                         verbose=10)\n",
    "_ = clf.fit(X_dev, Y_dev)\n",
    "\n",
    "rf_best = clf.best_estimator_"
   ]
  },
  {
   "cell_type": "markdown",
   "metadata": {},
   "source": [
    "I will now repeat the validation procedure to check whether the resampling helped at all."
   ]
  },
  {
   "cell_type": "code",
   "execution_count": 15,
   "metadata": {
    "collapsed": false
   },
   "outputs": [
    {
     "name": "stdout",
     "output_type": "stream",
     "text": [
      "Classification report for Random Forest\n",
      "             precision    recall  f1-score   support\n",
      "\n",
      "unconverted       0.94      0.94      0.94     91594\n",
      "  converted       0.94      0.94      0.94     92006\n",
      "\n",
      "avg / total       0.94      0.94      0.94    183600\n",
      "\n",
      "Area under ROC curve: 0.939\n"
     ]
    },
    {
     "data": {
      "image/png": "[encoded data removed]",
      "text/plain": [
       "<matplotlib.figure.Figure at 0x1140d56d0>"
      ]
     },
     "metadata": {},
     "output_type": "display_data"
    }
   ],
   "source": [
    "# Collect RF predictions\n",
    "rf_Ypredicted = rf_best.predict(X_eval)\n",
    "rf_roc_auc = roc_auc_score(Y_eval, rf_Ypredicted)\n",
    "\n",
    "print \"Classification report for Random Forest\"\n",
    "print classification_report(Y_eval, \n",
    "                            rf_Ypredicted,\n",
    "                            target_names=[\"unconverted\", \"converted\"])\n",
    "print \"Area under ROC curve: {:0.3f}\".format(rf_roc_auc)\n",
    "\n",
    "\n",
    "# Compute ROC curve and area under the curve for RF\n",
    "rf_probs = rf_best.predict_proba(X_eval)[:, 1]\n",
    "rf_fpr, rf_tpr, thresholds = roc_curve(Y_eval, rf_probs)\n",
    "\n",
    "plt.plot(rf_fpr, rf_tpr, lw=1, label='AUC = %0.2f'%(rf_roc_auc))\n",
    "\n",
    "plt.plot([0, 1], [0, 1], '--', color=(0.6, 0.6, 0.6), label='Luck')\n",
    "plt.xlim([-0.05, 1.05])\n",
    "plt.ylim([-0.05, 1.05])\n",
    "plt.xlabel('False Positive Rate', fontsize=15)\n",
    "plt.ylabel('True Positive Rate', fontsize=15)\n",
    "plt.title('ROC curve', fontsize=15)\n",
    "plt.legend(loc=\"best\", frameon = True).get_frame().set_edgecolor('black')\n",
    "plt.grid(True, linestyle = 'dotted')\n",
    "plt.show()"
   ]
  },
  {
   "cell_type": "markdown",
   "metadata": {},
   "source": [
    "This definitely seemed to help. It's a little disconcerting that both precision and recall for all predictions are identical and, given more time, I would look into this but for now, I will move on.\n",
    "\n",
    "I now show the most important features based on the optimized random forest model."
   ]
  },
  {
   "cell_type": "code",
   "execution_count": 16,
   "metadata": {
    "collapsed": false
   },
   "outputs": [
    {
     "data": {
      "text/plain": [
       "(array([0, 1, 2, 3, 4, 5, 6, 7, 8, 9]), <a list of 10 Text xticklabel objects>)"
      ]
     },
     "execution_count": 16,
     "metadata": {},
     "output_type": "execute_result"
    },
    {
     "data": {
      "image/png": "[encoded data removed]",
      "text/plain": [
       "<matplotlib.figure.Figure at 0x1140318d0>"
      ]
     },
     "metadata": {},
     "output_type": "display_data"
    }
   ],
   "source": [
    "# For random forest, look at most important features\n",
    "feat_labels = df.columns\n",
    "importances = rf_best.feature_importances_\n",
    "indices = np.argsort(importances)[::-1]\n",
    "\n",
    "sns.barplot(x=feat_labels[indices], y=importances[indices], color=sns.xkcd_rgb[\"pale red\"])\n",
    "plt.title('Feature Importances', fontsize=15)\n",
    "plt.ylabel('Relative Feature Importance', fontsize=12)\n",
    "plt.xticks(fontsize=12, rotation=70)"
   ]
  },
  {
   "cell_type": "markdown",
   "metadata": {},
   "source": [
    "The total pages visited feature is by far the most important for the classifier. However, it is also the least interesting because customers who already know they're making a purchase visit more pages by default, simply because converting requires you to visit a number of pages. This information won't be of much help to the product and marketing teams. The next step then is to remove this feature from the model and retrain the model, hopefully identifying more interesting trends."
   ]
  },
  {
   "cell_type": "code",
   "execution_count": 17,
   "metadata": {
    "collapsed": false
   },
   "outputs": [
    {
     "name": "stdout",
     "output_type": "stream",
     "text": [
      "Fitting 5 folds for each of 10 candidates, totalling 50 fits\n",
      "[CV] n_estimators=50, criterion=gini, max_depth=5 ....................\n",
      "[CV] n_estimators=50, criterion=gini, max_depth=5 ....................\n",
      "[CV] n_estimators=50, criterion=gini, max_depth=5 ....................\n",
      "[CV] n_estimators=50, criterion=gini, max_depth=5 ....................\n",
      "[CV] n_estimators=50, criterion=gini, max_depth=5 ....................\n",
      "[CV] n_estimators=100, criterion=gini, max_depth=5 ...................\n",
      "[CV] n_estimators=100, criterion=gini, max_depth=5 ...................\n",
      "[CV] n_estimators=100, criterion=gini, max_depth=5 ...................\n",
      "[CV] n_estimators=100, criterion=gini, max_depth=5 ...................\n",
      "[CV] n_estimators=100, criterion=gini, max_depth=5 ...................\n",
      "[CV]  n_estimators=50, criterion=gini, max_depth=5, score=0.737993 -  42.5s\n",
      "[CV] n_estimators=200, criterion=gini, max_depth=5 ...................\n",
      "[CV]  n_estimators=50, criterion=gini, max_depth=5, score=0.737967 -  42.9s\n",
      "[CV] n_estimators=200, criterion=gini, max_depth=5 ...................\n",
      "[CV]  n_estimators=50, criterion=gini, max_depth=5, score=0.739017 -  43.2s\n",
      "[CV] n_estimators=200, criterion=gini, max_depth=5 ...................\n",
      "[CV]  n_estimators=50, criterion=gini, max_depth=5, score=0.736376 -  43.1s\n",
      "[CV] n_estimators=200, criterion=gini, max_depth=5 ...................\n",
      "[CV]  n_estimators=50, criterion=gini, max_depth=5, score=0.735446 -  43.6s\n",
      "[CV] n_estimators=200, criterion=gini, max_depth=5 ...................\n"
     ]
    },
    {
     "name": "stderr",
     "output_type": "stream",
     "text": [
      "[Parallel(n_jobs=10)]: Done   5 tasks      | elapsed:   44.2s\n"
     ]
    },
    {
     "name": "stdout",
     "output_type": "stream",
     "text": [
      "[CV]  n_estimators=100, criterion=gini, max_depth=5, score=0.740689 - 1.4min\n",
      "[CV] n_estimators=50, criterion=entropy, max_depth=3 .................\n",
      "[CV]  n_estimators=100, criterion=gini, max_depth=5, score=0.739251 - 1.4min\n",
      "[CV]  n_estimators=100, criterion=gini, max_depth=5, score=0.737722 - 1.4min\n",
      "[CV] n_estimators=50, criterion=entropy, max_depth=3 .................\n",
      "[CV] n_estimators=50, criterion=entropy, max_depth=3 .................\n",
      "[CV]  n_estimators=100, criterion=gini, max_depth=5, score=0.737278 - 1.4min\n",
      "[CV] n_estimators=50, criterion=entropy, max_depth=3 .................\n",
      "[CV]  n_estimators=100, criterion=gini, max_depth=5, score=0.737520 - 1.4min\n",
      "[CV] n_estimators=50, criterion=entropy, max_depth=3 .................\n",
      "[CV]  n_estimators=50, criterion=entropy, max_depth=3, score=0.738869 -  31.0s\n",
      "[CV] n_estimators=150, criterion=gini, max_depth=5 ...................\n",
      "[CV]  n_estimators=50, criterion=entropy, max_depth=3, score=0.736146 -  31.0s\n",
      "[CV] n_estimators=150, criterion=gini, max_depth=5 ...................\n",
      "[CV]  n_estimators=50, criterion=entropy, max_depth=3, score=0.736356 -  31.2s\n",
      "[CV] n_estimators=150, criterion=gini, max_depth=5 ...................\n"
     ]
    },
    {
     "name": "stderr",
     "output_type": "stream",
     "text": [
      "[Parallel(n_jobs=10)]: Done  12 tasks      | elapsed:  2.0min\n"
     ]
    },
    {
     "name": "stdout",
     "output_type": "stream",
     "text": [
      "[CV]  n_estimators=50, criterion=entropy, max_depth=3, score=0.735913 -  31.2s\n",
      "[CV] n_estimators=150, criterion=gini, max_depth=5 ...................\n",
      "[CV]  n_estimators=50, criterion=entropy, max_depth=3, score=0.735104 -  31.2s\n",
      "[CV] n_estimators=150, criterion=gini, max_depth=5 ...................\n",
      "[CV]  n_estimators=200, criterion=gini, max_depth=5, score=0.740374 - 2.9min\n",
      "[CV] n_estimators=100, criterion=gini, max_depth=3 ...................\n",
      "[CV]  n_estimators=200, criterion=gini, max_depth=5, score=0.737967 - 2.9min\n",
      "[CV] n_estimators=100, criterion=gini, max_depth=3 ...................\n",
      "[CV]  n_estimators=200, criterion=gini, max_depth=5, score=0.737792 - 2.9min\n",
      "[CV] n_estimators=100, criterion=gini, max_depth=3 ...................\n",
      "[CV]  n_estimators=200, criterion=gini, max_depth=5, score=0.739029 - 2.9min\n",
      "[CV] n_estimators=100, criterion=gini, max_depth=3 ...................\n",
      "[CV]  n_estimators=200, criterion=gini, max_depth=5, score=0.737602 - 2.9min\n",
      "[CV] n_estimators=100, criterion=gini, max_depth=3 ...................\n",
      "[CV]  n_estimators=150, criterion=gini, max_depth=5, score=0.740374 - 2.2min\n",
      "[CV] n_estimators=200, criterion=gini, max_depth=3 ...................\n"
     ]
    },
    {
     "name": "stderr",
     "output_type": "stream",
     "text": [
      "[Parallel(n_jobs=10)]: Done  21 tasks      | elapsed:  4.2min\n"
     ]
    },
    {
     "name": "stdout",
     "output_type": "stream",
     "text": [
      "[CV]  n_estimators=150, criterion=gini, max_depth=5, score=0.739029 - 2.2min\n",
      "[CV] n_estimators=200, criterion=gini, max_depth=3 ...................\n",
      "[CV]  n_estimators=150, criterion=gini, max_depth=5, score=0.737640 - 2.2min\n",
      "[CV]  n_estimators=150, criterion=gini, max_depth=5, score=0.737722 - 2.2min\n",
      "[CV] n_estimators=200, criterion=gini, max_depth=3 ...................\n",
      "[CV] n_estimators=200, criterion=gini, max_depth=3 ...................\n",
      "[CV]  n_estimators=150, criterion=gini, max_depth=5, score=0.737520 - 2.2min\n",
      "[CV] n_estimators=200, criterion=gini, max_depth=3 ...................\n",
      "[CV]  n_estimators=100, criterion=gini, max_depth=3, score=0.736278 -  57.2s\n",
      "[CV] n_estimators=200, criterion=entropy, max_depth=3 ................\n",
      "[CV]  n_estimators=100, criterion=gini, max_depth=3, score=0.733905 -  57.6s\n",
      "[CV] n_estimators=200, criterion=entropy, max_depth=3 ................\n",
      "[CV]  n_estimators=100, criterion=gini, max_depth=3, score=0.733065 -  57.2s\n",
      "[CV] n_estimators=200, criterion=entropy, max_depth=3 ................\n",
      "[CV]  n_estimators=100, criterion=gini, max_depth=3, score=0.733695 -  57.1s\n",
      "[CV] n_estimators=200, criterion=entropy, max_depth=3 ................\n",
      "[CV]  n_estimators=100, criterion=gini, max_depth=3, score=0.731533 -  57.4s\n",
      "[CV] n_estimators=200, criterion=entropy, max_depth=3 ................\n"
     ]
    },
    {
     "name": "stderr",
     "output_type": "stream",
     "text": [
      "[Parallel(n_jobs=10)]: Done  30 tasks      | elapsed:  4.6min\n"
     ]
    },
    {
     "name": "stdout",
     "output_type": "stream",
     "text": [
      "[CV]  n_estimators=200, criterion=gini, max_depth=3, score=0.736278 - 1.9min\n",
      "[CV] n_estimators=150, criterion=gini, max_depth=3 ...................\n",
      "[CV]  n_estimators=200, criterion=gini, max_depth=3, score=0.733905 - 1.9min\n",
      "[CV] n_estimators=150, criterion=gini, max_depth=3 ...................\n",
      "[CV]  n_estimators=200, criterion=gini, max_depth=3, score=0.733065 - 1.9min\n",
      "[CV] n_estimators=150, criterion=gini, max_depth=3 ...................\n",
      "[CV]  n_estimators=200, criterion=gini, max_depth=3, score=0.731533 - 1.9min\n",
      "[CV] n_estimators=150, criterion=gini, max_depth=3 ...................\n",
      "[CV]  n_estimators=200, criterion=gini, max_depth=3, score=0.733695 - 1.9min\n",
      "[CV] n_estimators=150, criterion=gini, max_depth=3 ...................\n",
      "[CV]  n_estimators=200, criterion=entropy, max_depth=3, score=0.736278 - 1.9min\n",
      "[CV] n_estimators=100, criterion=entropy, max_depth=3 ................\n",
      "[CV]  n_estimators=200, criterion=entropy, max_depth=3, score=0.733905 - 1.9min\n",
      "[CV] n_estimators=100, criterion=entropy, max_depth=3 ................\n",
      "[CV]  n_estimators=200, criterion=entropy, max_depth=3, score=0.733695 - 1.9min\n"
     ]
    },
    {
     "name": "stderr",
     "output_type": "stream",
     "text": [
      "[Parallel(n_jobs=10)]: Done  37 out of  50 | elapsed:  6.5min remaining:  2.3min\n"
     ]
    },
    {
     "name": "stdout",
     "output_type": "stream",
     "text": [
      "[CV] n_estimators=100, criterion=entropy, max_depth=3 ................\n",
      "[CV]  n_estimators=200, criterion=entropy, max_depth=3, score=0.733065 - 1.9min\n",
      "[CV] n_estimators=100, criterion=entropy, max_depth=3 ................\n",
      "[CV]  n_estimators=200, criterion=entropy, max_depth=3, score=0.731533 - 1.9min\n",
      "[CV] n_estimators=100, criterion=entropy, max_depth=3 ................\n",
      "[CV]  n_estimators=100, criterion=entropy, max_depth=3, score=0.736278 -  58.7s\n",
      "[CV]  n_estimators=150, criterion=gini, max_depth=3, score=0.736278 - 1.4min\n",
      "[CV]  n_estimators=100, criterion=entropy, max_depth=3, score=0.733905 -  58.1s\n"
     ]
    },
    {
     "name": "stderr",
     "output_type": "stream",
     "text": [
      "[Parallel(n_jobs=10)]: Done  43 out of  50 | elapsed:  7.5min remaining:  1.2min\n"
     ]
    },
    {
     "name": "stdout",
     "output_type": "stream",
     "text": [
      "[CV]  n_estimators=100, criterion=entropy, max_depth=3, score=0.733065 -  58.3s\n",
      "[CV]  n_estimators=100, criterion=entropy, max_depth=3, score=0.733695 -  58.1s\n",
      "[CV]  n_estimators=100, criterion=entropy, max_depth=3, score=0.731533 -  57.7s\n",
      "[CV]  n_estimators=150, criterion=gini, max_depth=3, score=0.733905 - 1.4min\n",
      "[CV]  n_estimators=150, criterion=gini, max_depth=3, score=0.733695 - 1.4min\n",
      "[CV]  n_estimators=150, criterion=gini, max_depth=3, score=0.733065 - 1.4min\n",
      "[CV]  n_estimators=150, criterion=gini, max_depth=3, score=0.731533 - 1.4min\n"
     ]
    },
    {
     "name": "stderr",
     "output_type": "stream",
     "text": [
      "[Parallel(n_jobs=10)]: Done  50 out of  50 | elapsed:  7.5min finished\n"
     ]
    }
   ],
   "source": [
    "# Filter out total_pages_visited feature\n",
    "feature_list = [feature for feature in X.columns if feature != \"total_pages_visited\"]\n",
    "X = X[feature_list]\n",
    "\n",
    "# Split data\n",
    "X_dev, X_eval, Y_dev, Y_eval = train_test_split(X, Y, train_size=.7, random_state=23)\n",
    "\n",
    "# Initialize a random forest classifier\n",
    "rf = RandomForestClassifier()\n",
    "\n",
    "# Define a parameter grid to search over\n",
    "param_dist = {\"n_estimators\": range(50, 250, 50),\n",
    "              \"max_depth\": range(3, 7, 2), \n",
    "              'criterion': ['gini', 'entropy']}\n",
    "\n",
    "# Setup 5-fold stratified cross validation\n",
    "cross_validation = StratifiedKFold(Y_dev, n_folds=5)\n",
    "\n",
    "# Randomly sample 10 hyperparameter configurations from the grid above and perform 5-fold cross validation for each\n",
    "n_iter_search = 10\n",
    "clf = RandomizedSearchCV(rf, \n",
    "                         param_distributions=param_dist, \n",
    "                         n_iter=n_iter_search, \n",
    "                         cv=cross_validation, \n",
    "                         n_jobs=10, \n",
    "                         verbose=10)\n",
    "_ = clf.fit(X_dev, Y_dev)\n",
    "\n",
    "rf_best = clf.best_estimator_"
   ]
  },
  {
   "cell_type": "markdown",
   "metadata": {},
   "source": [
    "Here I validate this new model in the same way as before."
   ]
  },
  {
   "cell_type": "code",
   "execution_count": 18,
   "metadata": {
    "collapsed": false
   },
   "outputs": [
    {
     "name": "stdout",
     "output_type": "stream",
     "text": [
      "Classification report for Random Forest\n",
      "             precision    recall  f1-score   support\n",
      "\n",
      "unconverted       0.73      0.75      0.74     91594\n",
      "  converted       0.75      0.73      0.74     92006\n",
      "\n",
      "avg / total       0.74      0.74      0.74    183600\n",
      "\n",
      "Area under ROC curve: 0.740\n"
     ]
    },
    {
     "data": {
      "image/png": "[encoded data removed]",
      "text/plain": [
       "<matplotlib.figure.Figure at 0x125dc7890>"
      ]
     },
     "metadata": {},
     "output_type": "display_data"
    }
   ],
   "source": [
    "# Collect RF predictions\n",
    "rf_Ypredicted = rf_best.predict(X_eval)\n",
    "rf_roc_auc = roc_auc_score(Y_eval, rf_Ypredicted)\n",
    "\n",
    "print \"Classification report for Random Forest\"\n",
    "print classification_report(Y_eval, \n",
    "                            rf_Ypredicted,\n",
    "                            target_names=[\"unconverted\", \"converted\"])\n",
    "print \"Area under ROC curve: {:0.3f}\".format(rf_roc_auc)\n",
    "\n",
    "\n",
    "# Compute ROC curve and area under the curve for RF\n",
    "rf_probs = rf_best.predict_proba(X_eval)[:, 1]\n",
    "rf_fpr, rf_tpr, thresholds = roc_curve(Y_eval, rf_probs)\n",
    "\n",
    "plt.plot(rf_fpr, rf_tpr, lw=1, label='AUC = %0.2f'%(rf_roc_auc))\n",
    "\n",
    "plt.plot([0, 1], [0, 1], '--', color=(0.6, 0.6, 0.6), label='Luck')\n",
    "plt.xlim([-0.05, 1.05])\n",
    "plt.ylim([-0.05, 1.05])\n",
    "plt.xlabel('False Positive Rate', fontsize=15)\n",
    "plt.ylabel('True Positive Rate', fontsize=15)\n",
    "plt.title('ROC curve', fontsize=15)\n",
    "plt.legend(loc=\"best\", frameon = True).get_frame().set_edgecolor('black')\n",
    "plt.grid(True, linestyle = 'dotted')\n",
    "plt.show()"
   ]
  },
  {
   "cell_type": "markdown",
   "metadata": {},
   "source": [
    "The overall AUC score has been reduced, however that is expected after removing the total_pages_visited feature. Now I display the new set of feature importances."
   ]
  },
  {
   "cell_type": "code",
   "execution_count": 19,
   "metadata": {
    "collapsed": false
   },
   "outputs": [
    {
     "data": {
      "text/plain": [
       "(array([0, 1, 2, 3, 4, 5, 6, 7, 8]), <a list of 9 Text xticklabel objects>)"
      ]
     },
     "execution_count": 19,
     "metadata": {},
     "output_type": "execute_result"
    },
    {
     "data": {
      "image/png": "[encoded data removed]",
      "text/plain": [
       "<matplotlib.figure.Figure at 0x11aac4510>"
      ]
     },
     "metadata": {},
     "output_type": "display_data"
    }
   ],
   "source": [
    "# For random forest, look at most important features\n",
    "feat_labels = X.columns\n",
    "importances = rf_best.feature_importances_\n",
    "indices = np.argsort(importances)[::-1]\n",
    "\n",
    "sns.barplot(x=feat_labels[indices], y=importances[indices], color=sns.xkcd_rgb[\"pale red\"])\n",
    "plt.title('Feature Importances', fontsize=15)\n",
    "plt.ylabel('Relative Feature Importance', fontsize=12)\n",
    "plt.xticks(fontsize=12, rotation=70)"
   ]
  },
  {
   "cell_type": "markdown",
   "metadata": {},
   "source": [
    "Whether or not a user has visited the site before seems to matter quite a bit! After that, whether or not the user is visiting the site from a Chinese ISP or not and user age are also rather important. However, it's also interesting that the marketing channel really doesn't seem to play a role in converting customers much at all.   \n",
    "\n",
    "As a final takeaway, I would like to include the partial dependence plots for the first 3 features in order of importance. In order to do this, scikit-learn requires the model to be in the gradient boosting family so I'll train and validate a gradient boosting classifier for this purpose."
   ]
  },
  {
   "cell_type": "code",
   "execution_count": 20,
   "metadata": {
    "collapsed": false
   },
   "outputs": [
    {
     "name": "stdout",
     "output_type": "stream",
     "text": [
      "Fitting 5 folds for each of 10 candidates, totalling 50 fits\n",
      "[CV] n_estimators=100, learning_rate=0.01, max_depth=5 ...............\n",
      "[CV] n_estimators=100, learning_rate=0.01, max_depth=5 ...............\n",
      "[CV] n_estimators=100, learning_rate=0.01, max_depth=5 ...............\n",
      "[CV] n_estimators=100, learning_rate=0.01, max_depth=5 ...............\n",
      "[CV] n_estimators=100, learning_rate=0.01, max_depth=5 ...............\n",
      "[CV] n_estimators=150, learning_rate=0.03, max_depth=3 ...............\n",
      "[CV] n_estimators=150, learning_rate=0.03, max_depth=3 ...............\n",
      "[CV] n_estimators=150, learning_rate=0.03, max_depth=3 ...............\n",
      "[CV] n_estimators=150, learning_rate=0.03, max_depth=3 ...............\n",
      "[CV] n_estimators=150, learning_rate=0.03, max_depth=3 ...............\n",
      "[CV]  n_estimators=150, learning_rate=0.03, max_depth=3, score=0.744949 - 3.9min\n",
      "[CV] n_estimators=100, learning_rate=0.3, max_depth=3 ................\n",
      "[CV]  n_estimators=150, learning_rate=0.03, max_depth=3, score=0.742402 - 3.9min\n",
      "[CV] n_estimators=100, learning_rate=0.3, max_depth=3 ................\n",
      "[CV]  n_estimators=150, learning_rate=0.03, max_depth=3, score=0.742390 - 3.9min\n",
      "[CV] n_estimators=100, learning_rate=0.3, max_depth=3 ................\n",
      "[CV]  n_estimators=150, learning_rate=0.03, max_depth=3, score=0.740896 - 3.9min\n",
      "[CV] n_estimators=100, learning_rate=0.3, max_depth=3 ................\n",
      "[CV]  n_estimators=150, learning_rate=0.03, max_depth=3, score=0.742842 - 3.9min\n",
      "[CV] n_estimators=100, learning_rate=0.3, max_depth=3 ................\n"
     ]
    },
    {
     "name": "stderr",
     "output_type": "stream",
     "text": [
      "[Parallel(n_jobs=10)]: Done   5 tasks      | elapsed:  3.9min\n"
     ]
    },
    {
     "name": "stdout",
     "output_type": "stream",
     "text": [
      "[CV]  n_estimators=100, learning_rate=0.01, max_depth=5, score=0.744821 - 5.4min\n",
      "[CV] n_estimators=50, learning_rate=0.3, max_depth=5 .................\n",
      "[CV]  n_estimators=100, learning_rate=0.01, max_depth=5, score=0.742274 - 5.4min\n",
      "[CV] n_estimators=50, learning_rate=0.3, max_depth=5 .................\n",
      "[CV]  n_estimators=100, learning_rate=0.01, max_depth=5, score=0.740920 - 5.4min\n",
      "[CV] n_estimators=50, learning_rate=0.3, max_depth=5 .................\n",
      "[CV]  n_estimators=100, learning_rate=0.01, max_depth=5, score=0.742460 - 5.4min\n",
      "[CV] n_estimators=50, learning_rate=0.3, max_depth=5 .................\n",
      "[CV]  n_estimators=100, learning_rate=0.01, max_depth=5, score=0.742702 - 5.4min\n",
      "[CV] n_estimators=50, learning_rate=0.3, max_depth=5 .................\n",
      "[CV]  n_estimators=100, learning_rate=0.3, max_depth=3, score=0.745930 - 2.3min\n",
      "[CV] n_estimators=150, learning_rate=0.01, max_depth=3 ...............\n",
      "[CV]  n_estimators=100, learning_rate=0.3, max_depth=3, score=0.743417 - 2.3min\n",
      "[CV]  n_estimators=100, learning_rate=0.3, max_depth=3, score=0.743126 - 2.3min\n",
      "[CV] n_estimators=150, learning_rate=0.01, max_depth=3 ...............\n",
      "[CV] n_estimators=150, learning_rate=0.01, max_depth=3 ...............\n"
     ]
    },
    {
     "name": "stderr",
     "output_type": "stream",
     "text": [
      "[Parallel(n_jobs=10)]: Done  12 tasks      | elapsed:  6.2min\n"
     ]
    },
    {
     "name": "stdout",
     "output_type": "stream",
     "text": [
      "[CV]  n_estimators=100, learning_rate=0.3, max_depth=3, score=0.744045 - 2.3min\n",
      "[CV] n_estimators=150, learning_rate=0.01, max_depth=3 ...............\n",
      "[CV]  n_estimators=100, learning_rate=0.3, max_depth=3, score=0.743803 - 2.3min\n",
      "[CV] n_estimators=150, learning_rate=0.01, max_depth=3 ...............\n",
      "[CV]  n_estimators=50, learning_rate=0.3, max_depth=5, score=0.743581 - 2.5min\n",
      "[CV] n_estimators=100, learning_rate=0.3, max_depth=5 ................\n",
      "[CV]  n_estimators=50, learning_rate=0.3, max_depth=5, score=0.744865 - 2.5min\n",
      "[CV] n_estimators=100, learning_rate=0.3, max_depth=5 ................\n",
      "[CV]  n_estimators=50, learning_rate=0.3, max_depth=5, score=0.747599 - 2.6min\n",
      "[CV] n_estimators=100, learning_rate=0.3, max_depth=5 ................\n",
      "[CV]  n_estimators=50, learning_rate=0.3, max_depth=5, score=0.745168 - 2.6min\n",
      "[CV] n_estimators=100, learning_rate=0.3, max_depth=5 ................\n",
      "[CV]  n_estimators=50, learning_rate=0.3, max_depth=5, score=0.745480 - 2.6min\n",
      "[CV] n_estimators=100, learning_rate=0.3, max_depth=5 ................\n",
      "[CV]  n_estimators=150, learning_rate=0.01, max_depth=3, score=0.736278 - 3.8min\n",
      "[CV] n_estimators=150, learning_rate=0.3, max_depth=3 ................\n"
     ]
    },
    {
     "name": "stderr",
     "output_type": "stream",
     "text": [
      "[Parallel(n_jobs=10)]: Done  21 tasks      | elapsed: 10.0min\n"
     ]
    },
    {
     "name": "stdout",
     "output_type": "stream",
     "text": [
      "[CV]  n_estimators=150, learning_rate=0.01, max_depth=3, score=0.733695 - 3.8min\n",
      "[CV] n_estimators=150, learning_rate=0.3, max_depth=3 ................\n",
      "[CV]  n_estimators=150, learning_rate=0.01, max_depth=3, score=0.733905 - 3.8min\n",
      "[CV] n_estimators=150, learning_rate=0.3, max_depth=3 ................\n",
      "[CV]  n_estimators=150, learning_rate=0.01, max_depth=3, score=0.733065 - 3.8min\n",
      "[CV] n_estimators=150, learning_rate=0.3, max_depth=3 ................\n",
      "[CV]  n_estimators=150, learning_rate=0.01, max_depth=3, score=0.731533 - 3.8min\n",
      "[CV] n_estimators=150, learning_rate=0.3, max_depth=3 ................\n",
      "[CV]  n_estimators=100, learning_rate=0.3, max_depth=5, score=0.747902 - 5.0min\n",
      "[CV] n_estimators=200, learning_rate=0.1, max_depth=3 ................\n",
      "[CV]  n_estimators=100, learning_rate=0.3, max_depth=5, score=0.745121 - 5.0min\n",
      "[CV] n_estimators=200, learning_rate=0.1, max_depth=3 ................\n",
      "[CV]  n_estimators=100, learning_rate=0.3, max_depth=5, score=0.745588 - 5.0min\n",
      "[CV] n_estimators=200, learning_rate=0.1, max_depth=3 ................\n",
      "[CV]  n_estimators=100, learning_rate=0.3, max_depth=5, score=0.745612 - 5.0min\n",
      "[CV] n_estimators=200, learning_rate=0.1, max_depth=3 ................\n",
      "[CV]  n_estimators=100, learning_rate=0.3, max_depth=5, score=0.746017 - 5.0min\n",
      "[CV] n_estimators=200, learning_rate=0.1, max_depth=3 ................\n"
     ]
    },
    {
     "name": "stderr",
     "output_type": "stream",
     "text": [
      "[Parallel(n_jobs=10)]: Done  30 tasks      | elapsed: 13.0min\n"
     ]
    },
    {
     "name": "stdout",
     "output_type": "stream",
     "text": [
      "[CV]  n_estimators=150, learning_rate=0.3, max_depth=3, score=0.743884 - 3.4min\n",
      "[CV] n_estimators=150, learning_rate=0.01, max_depth=5 ...............\n",
      "[CV]  n_estimators=150, learning_rate=0.3, max_depth=3, score=0.743289 - 3.4min\n",
      "[CV] n_estimators=150, learning_rate=0.01, max_depth=5 ...............\n",
      "[CV]  n_estimators=150, learning_rate=0.3, max_depth=3, score=0.745778 - 3.4min\n",
      "[CV] n_estimators=150, learning_rate=0.01, max_depth=5 ...............\n",
      "[CV]  n_estimators=150, learning_rate=0.3, max_depth=3, score=0.743604 - 3.4min\n",
      "[CV] n_estimators=150, learning_rate=0.01, max_depth=5 ...............\n",
      "[CV]  n_estimators=150, learning_rate=0.3, max_depth=3, score=0.744640 - 3.4min\n",
      "[CV] n_estimators=150, learning_rate=0.01, max_depth=5 ...............\n",
      "[CV]  n_estimators=200, learning_rate=0.1, max_depth=3, score=0.743219 - 4.6min\n",
      "[CV] n_estimators=200, learning_rate=0.03, max_depth=5 ...............\n",
      "[CV]  n_estimators=200, learning_rate=0.1, max_depth=3, score=0.745918 - 4.6min\n",
      "[CV] n_estimators=200, learning_rate=0.03, max_depth=5 ...............\n"
     ]
    },
    {
     "name": "stderr",
     "output_type": "stream",
     "text": [
      "[Parallel(n_jobs=10)]: Done  37 out of  50 | elapsed: 17.6min remaining:  6.2min\n"
     ]
    },
    {
     "name": "stdout",
     "output_type": "stream",
     "text": [
      "[CV]  n_estimators=200, learning_rate=0.1, max_depth=3, score=0.743709 - 4.6min\n",
      "[CV] n_estimators=200, learning_rate=0.03, max_depth=5 ...............\n",
      "[CV]  n_estimators=200, learning_rate=0.1, max_depth=3, score=0.742204 - 4.6min\n",
      "[CV] n_estimators=200, learning_rate=0.03, max_depth=5 ...............\n",
      "[CV]  n_estimators=200, learning_rate=0.1, max_depth=3, score=0.743846 - 4.6min\n",
      "[CV] n_estimators=200, learning_rate=0.03, max_depth=5 ...............\n",
      "[CV]  n_estimators=150, learning_rate=0.01, max_depth=5, score=0.744914 - 7.8min\n",
      "[CV]  n_estimators=150, learning_rate=0.01, max_depth=5, score=0.742239 - 7.8min\n",
      "[CV]  n_estimators=150, learning_rate=0.01, max_depth=5, score=0.740838 - 7.8min\n",
      "[CV]  n_estimators=150, learning_rate=0.01, max_depth=5, score=0.742460 - 7.9min\n"
     ]
    },
    {
     "name": "stderr",
     "output_type": "stream",
     "text": [
      "[Parallel(n_jobs=10)]: Done  43 out of  50 | elapsed: 21.3min remaining:  3.5min\n"
     ]
    },
    {
     "name": "stdout",
     "output_type": "stream",
     "text": [
      "[CV]  n_estimators=150, learning_rate=0.01, max_depth=5, score=0.742842 - 7.9min\n",
      "[CV]  n_estimators=200, learning_rate=0.03, max_depth=5, score=0.747108 - 7.3min\n",
      "[CV]  n_estimators=200, learning_rate=0.03, max_depth=5, score=0.744386 - 7.3min\n",
      "[CV]  n_estimators=200, learning_rate=0.03, max_depth=5, score=0.743721 - 7.3min\n",
      "[CV]  n_estimators=200, learning_rate=0.03, max_depth=5, score=0.742904 - 7.3min\n",
      "[CV]  n_estimators=200, learning_rate=0.03, max_depth=5, score=0.744313 - 7.3min\n"
     ]
    },
    {
     "name": "stderr",
     "output_type": "stream",
     "text": [
      "[Parallel(n_jobs=10)]: Done  50 out of  50 | elapsed: 24.9min finished\n"
     ]
    }
   ],
   "source": [
    "from sklearn.ensemble import GradientBoostingClassifier\n",
    "\n",
    "# Initialize a random forest classifier\n",
    "gbc = GradientBoostingClassifier()\n",
    "\n",
    "# Define a parameter grid to search over\n",
    "param_dist = {\"n_estimators\": range(50, 250, 50),\n",
    "              \"max_depth\": range(3, 7, 2), \n",
    "              'learning_rate': [.01, .03, .1, .3]}\n",
    "\n",
    "# Setup 5-fold stratified cross validation\n",
    "cross_validation = StratifiedKFold(Y_dev, n_folds=5)\n",
    "\n",
    "# Randomly sample 10 hyperparameter configurations from the grid above and perform 5-fold cross validation for each\n",
    "n_iter_search = 10\n",
    "clf = RandomizedSearchCV(gbc, \n",
    "                         param_distributions=param_dist, \n",
    "                         n_iter=n_iter_search, \n",
    "                         cv=cross_validation, \n",
    "                         n_jobs=10, \n",
    "                         verbose=10)\n",
    "_ = clf.fit(X_dev, Y_dev)\n",
    "\n",
    "gbc_best = clf.best_estimator_"
   ]
  },
  {
   "cell_type": "markdown",
   "metadata": {},
   "source": [
    "I now display the partial dependence plots for \n",
    "* Whether or not the user is new to the site or not\n",
    "* Whether or not the user has a Chinese ISP or not\n",
    "* User age"
   ]
  },
  {
   "cell_type": "code",
   "execution_count": 23,
   "metadata": {
    "collapsed": false
   },
   "outputs": [
    {
     "data": {
      "text/plain": [
       "<matplotlib.text.Text at 0x11a96fcd0>"
      ]
     },
     "execution_count": 23,
     "metadata": {},
     "output_type": "execute_result"
    },
    {
     "data": {
      "image/png": "[encoded data removed]",
      "text/plain": [
       "<matplotlib.figure.Figure at 0x11466a050>"
      ]
     },
     "metadata": {},
     "output_type": "display_data"
    },
    {
     "data": {
      "image/png": "[encoded data removed]",
      "text/plain": [
       "<matplotlib.figure.Figure at 0x11498e790>"
      ]
     },
     "metadata": {},
     "output_type": "display_data"
    },
    {
     "data": {
      "image/png": "[encoded data removed]",
      "text/plain": [
       "<matplotlib.figure.Figure at 0x114778f50>"
      ]
     },
     "metadata": {},
     "output_type": "display_data"
    }
   ],
   "source": [
    "fig, ax = plot_partial_dependence(gbc_best, X, features=[8])\n",
    "plt.xlabel(\"New User\", fontsize=15)\n",
    "plt.ylabel(\"Partial Dependence\", fontsize=15)\n",
    "\n",
    "fig, ax = plot_partial_dependence(gbc_best, X, features=[3])\n",
    "plt.xlabel(\"Country: China\", fontsize=15)\n",
    "plt.ylabel(\"Partial Dependence\", fontsize=15)\n",
    "\n",
    "fig, ax = plot_partial_dependence(gbc_best, X, features=[7])\n",
    "xvals = np.linspace(-2, 6, 10)\n",
    "rescaled_list = np.linspace(-2, 6, 10) * feature_dict[\"age_std\"] + feature_dict[\"age_mean\"]\n",
    "rescaled_labels = [\"%d\" % label for label in rescaled_list]\n",
    "plt.xlim(-2, 6)\n",
    "plt.xticks(xvals, rescaled_labels)\n",
    "plt.xlabel(\"Age\", fontsize=15)\n",
    "plt.ylabel(\"Partial Dependence\", fontsize=15)"
   ]
  },
  {
   "cell_type": "markdown",
   "metadata": {},
   "source": [
    "## Conclusions\n",
    "\n",
    "Here, I re-iterate my list of gained insights and associated recommendations.\n",
    "* Users with an older account are more likely to convert than users with newer accounts.\n",
    "    * Since they're already in the system, perhaps some targeted emails with offers to bring them back to the site could better capture their conversion potential.\n",
    "* Chinese users are hard to convert.\n",
    "    * This could be just due to translation or cultural issues. Either way, considering how many potential users are in China I'd recommend the UX department take a look at ways to improve it.\n",
    "* German users are relatively easy to convert.\n",
    "    * Something is going very right with German users and so a little more focus on these users could have a large effect! This could be something for both UX and marketing to look into.\n",
    "* Young people are much more likely to convert than older people.\n",
    "    * UX department may want to look into why people 30+ perform so poorly.\n",
    "* Existing marketing channels do not have a significant effect one way or the other\n",
    "    * Considering that the site does well with younger users, development of new marketing channels should be done specifically so that they are aimed at reaching younger people.\n",
    "* If a user has visited many pages but hasn't yet converted, they very likely could have a high purchase intent. Perhaps such users could be sent targeted email offers or reminders."
   ]
  }
 ],
 "metadata": {
  "anaconda-cloud": {},
  "kernelspec": {
   "display_name": "Python [Root]",
   "language": "python",
   "name": "Python [Root]"
  },
  "language_info": {
   "codemirror_mode": {
    "name": "ipython",
    "version": 2
   },
   "file_extension": ".py",
   "mimetype": "text/x-python",
   "name": "python",
   "nbconvert_exporter": "python",
   "pygments_lexer": "ipython2",
   "version": "2.7.12"
  }
 },
 "nbformat": 4,
 "nbformat_minor": 0
}
